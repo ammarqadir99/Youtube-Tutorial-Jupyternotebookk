{
 "cells": [
  {
   "cell_type": "markdown",
   "metadata": {},
   "source": [
    "# Speech Recognition"
   ]
  },
  {
   "cell_type": "code",
   "execution_count": 1,
   "metadata": {},
   "outputs": [],
   "source": [
    "import speech_recognition as sr"
   ]
  },
  {
   "cell_type": "code",
   "execution_count": 2,
   "metadata": {},
   "outputs": [],
   "source": [
    "speech_r = sr.Recognizer()"
   ]
  },
  {
   "cell_type": "code",
   "execution_count": 3,
   "metadata": {},
   "outputs": [
    {
     "name": "stdout",
     "output_type": "stream",
     "text": [
      "Print text from audio\n",
      "on HD which is a few men's micro modal finest universities in the world and graduated college and this is the closest to college graduation today I want to tell you to restore is my life that say no big deal to Story story story is back connecting with that I dropped RV College of the first six months but there's a drop in for 18 months or so before I will require so why dropout it started before I was born on my mother was a young onward Graduate school and she decided that we are production very strongly recipe adapted by college graduates everything with offset will be adapted profile lower and his wife except the one I thought about it the last minute that I really wanna grow so my parents who I am waiting list kar call in the middle of the night asking we can expect baby boy Quantum they said it was my biological mother later that my mother had never graduate from college in my father had never graduated from high school she refused to sign the final adoption papers covid-19 document writer on my favorites from us that I would never college this was the start in my life and 17 years later I did go to college can I do it shows a collage on this expensive than that in all my working class 10th Save into the expense of my College tuition\n"
     ]
    }
   ],
   "source": [
    "with sr.AudioFile(\"stevejobsspeech.wav\") as source:\n",
    "    speech_audio = speech_r.listen(source)\n",
    "    try:\n",
    "        speech_text = speech_r.recognize_google(speech_audio)\n",
    "        print(\"Print text from audio\")\n",
    "        print(speech_text)\n",
    "    except:\n",
    "        print(\"Please try again\")"
   ]
  },
  {
   "cell_type": "code",
   "execution_count": null,
   "metadata": {},
   "outputs": [],
   "source": []
  }
 ],
 "metadata": {
  "kernelspec": {
   "display_name": "Python 3",
   "language": "python",
   "name": "python3"
  },
  "language_info": {
   "codemirror_mode": {
    "name": "ipython",
    "version": 3
   },
   "file_extension": ".py",
   "mimetype": "text/x-python",
   "name": "python",
   "nbconvert_exporter": "python",
   "pygments_lexer": "ipython3",
   "version": "3.7.7"
  }
 },
 "nbformat": 4,
 "nbformat_minor": 4
}
